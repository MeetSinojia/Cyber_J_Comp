{
  "nbformat": 4,
  "nbformat_minor": 0,
  "metadata": {
    "colab": {
      "provenance": []
    },
    "kernelspec": {
      "name": "python3",
      "display_name": "Python 3"
    },
    "language_info": {
      "name": "python"
    }
  },
  "cells": [
    {
      "cell_type": "code",
      "source": [
        "!pip install pefile\n",
        "!pip install requests beautifulsoup4"
      ],
      "metadata": {
        "id": "G6MUOygaufX7",
        "colab": {
          "base_uri": "https://localhost:8080/"
        },
        "outputId": "6c8f3610-4545-46d1-d9f5-03a41d792a7c"
      },
      "execution_count": null,
      "outputs": [
        {
          "output_type": "stream",
          "name": "stdout",
          "text": [
            "Looking in indexes: https://pypi.org/simple, https://us-python.pkg.dev/colab-wheels/public/simple/\n",
            "Collecting pefile\n",
            "  Downloading pefile-2023.2.7-py3-none-any.whl (71 kB)\n",
            "\u001b[2K     \u001b[90m━━━━━━━━━━━━━━━━━━━━━━━━━━━━━━━━━━━━━━━━\u001b[0m \u001b[32m71.8/71.8 KB\u001b[0m \u001b[31m4.9 MB/s\u001b[0m eta \u001b[36m0:00:00\u001b[0m\n",
            "\u001b[?25hInstalling collected packages: pefile\n",
            "Successfully installed pefile-2023.2.7\n",
            "Looking in indexes: https://pypi.org/simple, https://us-python.pkg.dev/colab-wheels/public/simple/\n",
            "Requirement already satisfied: requests in /usr/local/lib/python3.9/dist-packages (2.27.1)\n",
            "Requirement already satisfied: beautifulsoup4 in /usr/local/lib/python3.9/dist-packages (4.11.2)\n",
            "Requirement already satisfied: urllib3<1.27,>=1.21.1 in /usr/local/lib/python3.9/dist-packages (from requests) (1.26.15)\n",
            "Requirement already satisfied: idna<4,>=2.5 in /usr/local/lib/python3.9/dist-packages (from requests) (3.4)\n",
            "Requirement already satisfied: charset-normalizer~=2.0.0 in /usr/local/lib/python3.9/dist-packages (from requests) (2.0.12)\n",
            "Requirement already satisfied: certifi>=2017.4.17 in /usr/local/lib/python3.9/dist-packages (from requests) (2022.12.7)\n",
            "Requirement already satisfied: soupsieve>1.2 in /usr/local/lib/python3.9/dist-packages (from beautifulsoup4) (2.4)\n"
          ]
        }
      ]
    },
    {
      "cell_type": "code",
      "source": [
        "import os\n",
        "import requests\n",
        "from bs4 import BeautifulSoup\n",
        "\n",
        "# Create a new directory to store the zip files\n",
        "os.makedirs('zip_samples', exist_ok=True)\n",
        "\n",
        "# Iterate through the number of botnets (1 to 10)\n",
        "for i in range(1, 10):\n",
        "  # Send a GET request to the website and parse the HTML content\n",
        "  url = f'https://mcfp.felk.cvut.cz/publicDatasets/CTU-Malware-Capture-Botnet-{i}'\n",
        "  response = requests.get(url)\n",
        "  soup = BeautifulSoup(response.text, 'html.parser')\n",
        "\n",
        "  # Find all the 'a' tags that contain a zip file link\n",
        "  zip_tags = soup.find_all('a', href=lambda x: x and x.endswith('.zip'))\n",
        "\n",
        "  # Iterate through the list of zip tags and download the zip files\n",
        "  for zip_tag in zip_tags:\n",
        "    zip_url = url + '/' + zip_tag['href']\n",
        "    response = requests.get(zip_url)\n",
        "    open(f'zip_samples/{zip_tag[\"href\"]}', 'wb').write(response.content)\n"
      ],
      "metadata": {
        "id": "ggc4PrwKw3k2"
      },
      "execution_count": null,
      "outputs": []
    },
    {
      "cell_type": "code",
      "source": [
        "import glob\n",
        "import csv\n",
        "\n",
        "# Find all the zip files in the 'zip_samples' folder\n",
        "zip_files = glob.glob('zip_samples/*.zip')\n",
        "\n",
        "# Open a new .csv file and write the names of the zip files to it\n",
        "with open('zip_file_names.csv', 'w', newline='') as csv_file:\n",
        "  csv_writer = csv.writer(csv_file)\n",
        "  csv_writer.writerow(['Filename'])\n",
        "  for zip_file in zip_files:\n",
        "    csv_writer.writerow([zip_file])"
      ],
      "metadata": {
        "id": "uvNqCI_Jw_pf"
      },
      "execution_count": null,
      "outputs": []
    },
    {
      "cell_type": "code",
      "source": [
        "import csv\n",
        "import glob\n",
        "import os\n",
        "import zipfile\n",
        "\n",
        "# Open the .csv file and read the zip file names\n",
        "zip_file_names = []\n",
        "with open('zip_file_names.csv', 'r') as csv_file:\n",
        "  csv_reader = csv.reader(csv_file)\n",
        "  next(csv_reader)  # Skip the header row\n",
        "  for row in csv_reader:\n",
        "    zip_file_names.append(row[0])\n",
        "\n",
        "# Create a new directory to store the extracted files\n",
        "os.makedirs('exe_samples', exist_ok=True)\n",
        "\n",
        "# Iterate through the list of zip file names and extract the zip files\n",
        "for zip_file_name in zip_file_names:\n",
        "  zip_file = f'{zip_file_name}'\n",
        "  # Open the zip file and provide the password\n",
        "  zip_ref = zipfile.ZipFile(zip_file, 'r')\n",
        "  # Extract the contents of the zip file to the 'exe_samples' folder\n",
        "  zip_ref.extractall('exe_samples', pwd=b'infected')\n",
        "  zip_ref.close()\n"
      ],
      "metadata": {
        "id": "ZDNr6P86umpx"
      },
      "execution_count": null,
      "outputs": []
    },
    {
      "cell_type": "code",
      "source": [
        "import glob\n",
        "import csv\n",
        "\n",
        "# Find all the exe files in the 'exe_samples' folder\n",
        "exe_files = glob.glob('exe_samples/*.exe')\n",
        "\n",
        "# Open a new .csv file and write the names of the exe files to it\n",
        "with open('exe_file_names.csv', 'w', newline='') as csv_file:\n",
        "  csv_writer = csv.writer(csv_file)\n",
        "  csv_writer.writerow(['Filename'])\n",
        "  for exe_file in exe_files:\n",
        "    csv_writer.writerow([exe_file])"
      ],
      "metadata": {
        "id": "CLtL0HuX2_Bg"
      },
      "execution_count": null,
      "outputs": []
    },
    {
      "cell_type": "code",
      "source": [
        "import csv\n",
        "import glob\n",
        "import os\n",
        "import pandas as pd\n",
        "import pefile\n",
        "\n",
        "# Open the .csv file and read the exe file names\n",
        "exe_file_names = []\n",
        "with open('exe_file_names.csv', 'r') as csv_file:\n",
        "  csv_reader = csv.reader(csv_file)\n",
        "  next(csv_reader)  # Skip the header row\n",
        "  for row in csv_reader:\n",
        "    exe_file_names.append(row[0])\n",
        "\n",
        "# Create a new DataFrame to store the extracted features\n",
        "df = pd.DataFrame(columns=['Filename', 'Machine type', 'Number of sections'])\n",
        "\n",
        "# Iterate over the EXE file names\n",
        "for exe_file_name in exe_file_names:\n",
        "  try:\n",
        "    # Open the EXE file and extract the header information and section sizes\n",
        "    pe = pefile.PE(exe_file_name)\n",
        "    data = {'Filename': os.path.basename(exe_file_name), 'Machine type': pe.FILE_HEADER.Machine, 'Number of sections': pe.FILE_HEADER.NumberOfSections}\n",
        "    for section in pe.sections:\n",
        "      data[section.Name.decode()] = section.SizeOfRawData\n",
        "    print(data)\n",
        "\n",
        "    \n",
        "  except UnicodeDecodeError:\n",
        "    print(\"Corrupted .exe\")\n",
        "    print(exe_file_name)\n"
      ],
      "metadata": {
        "id": "D5CmJN3bHGGD",
        "colab": {
          "base_uri": "https://localhost:8080/"
        },
        "outputId": "c68bc79e-874b-48ec-9a35-d7e209720a9e"
      },
      "execution_count": null,
      "outputs": [
        {
          "output_type": "stream",
          "name": "stdout",
          "text": [
            "{'Filename': 'SecureMessage.exe', 'Machine type': 332, 'Number of sections': 6, '.text\\x00\\x00\\x00': 2560, '.rdata\\x00\\x00': 1536, '.data\\x00\\x00\\x00': 512, '.rich\\x00\\x00\\x00': 1536, '.data1\\x00\\x00': 512, '.rsrc\\x00\\x00\\x00': 112128}\n",
            "{'Filename': '39UvZmv.exe', 'Machine type': 332, 'Number of sections': 4, '.text\\x00\\x00\\x00': 2048, '.rdata\\x00\\x00': 3072, '.orpc\\x00\\x00\\x00': 305664, '.adata\\x00\\x00': 0}\n",
            "{'Filename': '3ab45z.exe', 'Machine type': 332, 'Number of sections': 5, '.text\\x00\\x00\\x00': 3072, '.rdata\\x00\\x00': 1024, '.data\\x00\\x00\\x00': 10752, '.data0\\x00\\x00': 303104, '.rsrc\\x00\\x00\\x00': 19456}\n",
            "{'Filename': '1_Jeu_Par_Jour.exe', 'Machine type': 332, 'Number of sections': 4, '.text\\x00\\x00\\x00': 512, '.rdata\\x00\\x00': 1024, '.data\\x00\\x00\\x00': 512, '.rsrc\\x00\\x00\\x00': 221184}\n",
            "{'Filename': '76f6ec1ee2c62f2e768477e3d80e3b2c.exe', 'Machine type': 332, 'Number of sections': 4, '.text\\x00\\x00\\x00': 2048, '.rdata\\x00\\x00': 3584, '.orpc\\x00\\x00\\x00': 305664, '.adata\\x00\\x00': 1024}\n",
            "{'Filename': 'ZtaXE.exe', 'Machine type': 332, 'Number of sections': 4, '.text\\x00\\x00\\x00': 313856, '.data\\x00\\x00\\x00': 9728, '.rsrc\\x00\\x00\\x00': 37376, '.reloc\\x00\\x00': 2048}\n",
            "{'Filename': '8219s.exe', 'Machine type': 332, 'Number of sections': 6, '.text\\x00\\x00\\x00': 3584, '.rdata\\x00\\x00': 512, '.data\\x00\\x00\\x00': 1024, '.rsrc\\x00\\x00\\x00': 291840, '.impdata': 512}\n",
            "{'Filename': 'tdPTU02.exe', 'Machine type': 332, 'Number of sections': 3, '.text\\x00\\x00\\x00': 2560, '.rdata\\x00\\x00': 2560, '.dbg\\x00\\x00\\x00\\x00': 311808}\n",
            "{'Filename': 'FzPfH6.exe', 'Machine type': 332, 'Number of sections': 6, '.text\\x00\\x00\\x00': 3584, '.rdata\\x00\\x00': 5120, '.data\\x00\\x00\\x00': 4096, '.rsrc\\x00\\x00\\x00': 300544, '.text1\\x00\\x00': 1024, '.data2\\x00\\x00': 512}\n"
          ]
        }
      ]
    },
    {
      "cell_type": "code",
      "source": [
        "import csv\n",
        "import glob\n",
        "import os\n",
        "import pandas as pd\n",
        "import pefile\n",
        "\n",
        "# Open the .csv file and read the exe file names\n",
        "exe_file_names = []\n",
        "with open('exe_file_names.csv', 'r') as csv_file:\n",
        "  csv_reader = csv.reader(csv_file)\n",
        "  next(csv_reader)  # Skip the header row\n",
        "  for row in csv_reader:\n",
        "    exe_file_names.append(row[0])\n",
        "\n",
        "# Create a new DataFrame to store the extracted features\n",
        "df = pd.DataFrame(columns=['Filename', 'Machine type', 'Number of sections'])\n",
        "\n",
        "# Iterate over the EXE file names\n",
        "for exe_file_name in exe_file_names:\n",
        "  try:\n",
        "    # Open the EXE file and extract the header information and section sizes\n",
        "    pe = pefile.PE(exe_file_name)\n",
        "    data = {'Filename': os.path.basename(exe_file_name), 'Machine type': pe.FILE_HEADER.Machine, 'Number of sections': pe.FILE_HEADER.NumberOfSections}\n",
        "    for section in pe.sections:\n",
        "      data[section.Name.decode()] = section.SizeOfRawData\n",
        "    df = df.append(data, ignore_index=True)\n",
        "    \n",
        "  except UnicodeDecodeError:\n",
        "    print(\"Corrupted .exe\")\n",
        "    print(exe_file_name)\n",
        "\n",
        "# Write the DataFrame to a CSV file\n",
        "df.to_csv('extracted_data.csv', index=False)\n"
      ],
      "metadata": {
        "id": "weFQQm-CHlg3",
        "colab": {
          "base_uri": "https://localhost:8080/"
        },
        "outputId": "5975a753-15af-4560-e42b-770ad1189e4f"
      },
      "execution_count": null,
      "outputs": [
        {
          "output_type": "stream",
          "name": "stderr",
          "text": [
            "<ipython-input-8-4c25144dbf7b>:26: FutureWarning: The frame.append method is deprecated and will be removed from pandas in a future version. Use pandas.concat instead.\n",
            "  df = df.append(data, ignore_index=True)\n",
            "<ipython-input-8-4c25144dbf7b>:26: FutureWarning: The frame.append method is deprecated and will be removed from pandas in a future version. Use pandas.concat instead.\n",
            "  df = df.append(data, ignore_index=True)\n",
            "<ipython-input-8-4c25144dbf7b>:26: FutureWarning: The frame.append method is deprecated and will be removed from pandas in a future version. Use pandas.concat instead.\n",
            "  df = df.append(data, ignore_index=True)\n",
            "<ipython-input-8-4c25144dbf7b>:26: FutureWarning: The frame.append method is deprecated and will be removed from pandas in a future version. Use pandas.concat instead.\n",
            "  df = df.append(data, ignore_index=True)\n",
            "<ipython-input-8-4c25144dbf7b>:26: FutureWarning: The frame.append method is deprecated and will be removed from pandas in a future version. Use pandas.concat instead.\n",
            "  df = df.append(data, ignore_index=True)\n",
            "<ipython-input-8-4c25144dbf7b>:26: FutureWarning: The frame.append method is deprecated and will be removed from pandas in a future version. Use pandas.concat instead.\n",
            "  df = df.append(data, ignore_index=True)\n",
            "<ipython-input-8-4c25144dbf7b>:26: FutureWarning: The frame.append method is deprecated and will be removed from pandas in a future version. Use pandas.concat instead.\n",
            "  df = df.append(data, ignore_index=True)\n",
            "<ipython-input-8-4c25144dbf7b>:26: FutureWarning: The frame.append method is deprecated and will be removed from pandas in a future version. Use pandas.concat instead.\n",
            "  df = df.append(data, ignore_index=True)\n",
            "<ipython-input-8-4c25144dbf7b>:26: FutureWarning: The frame.append method is deprecated and will be removed from pandas in a future version. Use pandas.concat instead.\n",
            "  df = df.append(data, ignore_index=True)\n"
          ]
        }
      ]
    },
    {
      "cell_type": "markdown",
      "source": [
        "##Analysing The sections of corrupted and uncorrupted files"
      ],
      "metadata": {
        "id": "jx5uv4J6_w0f"
      }
    },
    {
      "cell_type": "code",
      "source": [
        "import csv\n",
        "import glob\n",
        "import os\n",
        "import zipfile"
      ],
      "metadata": {
        "id": "RBvBMvcyDbhd"
      },
      "execution_count": null,
      "outputs": []
    },
    {
      "cell_type": "code",
      "source": [
        "import pandas as pd\n",
        "\n",
        "# Read the CSV files\n",
        "corrupted_df = pd.read_csv('sample_data/corrupted_files.csv')\n",
        "not_corrupted_df = pd.read_csv('sample_data/uncorrupted_files.csv')\n",
        "\n",
        "# Merge the DataFrames on the Filename column\n",
        "merged_df = pd.merge(corrupted_df, not_corrupted_df, on='Filename', how='outer', suffixes=('_corrupted', '_not_corrupted'))\n",
        "\n",
        "# Count the number of corrupted and not corrupted files\n",
        "num_corrupted = merged_df['Machine type_corrupted'].count()\n",
        "num_not_corrupted = merged_df['Machine type_not_corrupted'].count()\n",
        "\n",
        "# Calculate the percentage of corrupted files\n",
        "percent_corrupted = num_corrupted / (num_corrupted + num_not_corrupted) * 100\n",
        "\n",
        "# Calculate the average number of sections for corrupted and not corrupted files\n",
        "avg_sections_corrupted = merged_df['Number of sections_corrupted'].mean()\n",
        "avg_sections_not_corrupted = merged_df['Number of sections_not_corrupted'].mean()\n",
        "\n",
        "# Print the results\n",
        "print(f\"Total number of files: {num_corrupted + num_not_corrupted}\")\n",
        "print(f\"Number of corrupted files: {num_corrupted}\")\n",
        "print(f\"Number of not corrupted files: {num_not_corrupted}\")\n",
        "print(f\"Percentage of corrupted files: {percent_corrupted:.2f}%\")\n",
        "print(f\"Average number of sections for corrupted files: {avg_sections_corrupted:.2f}\")\n",
        "print(f\"Average number of sections for not corrupted files: {avg_sections_not_corrupted:.2f}\")\n"
      ],
      "metadata": {
        "colab": {
          "base_uri": "https://localhost:8080/"
        },
        "id": "kEtjf2dAM5B6",
        "outputId": "a6982142-ec94-401c-f43c-678c69fec696"
      },
      "execution_count": null,
      "outputs": [
        {
          "output_type": "stream",
          "name": "stdout",
          "text": [
            "Total number of files: 63\n",
            "Number of corrupted files: 38\n",
            "Number of not corrupted files: 25\n",
            "Percentage of corrupted files: 60.32%\n",
            "Average number of sections for corrupted files: 4.55\n",
            "Average number of sections for not corrupted files: 7.20\n"
          ]
        }
      ]
    },
    {
      "cell_type": "markdown",
      "source": [
        "##Check Unique Section Name in uncorrupted files"
      ],
      "metadata": {
        "id": "jp42lrdiR2jh"
      }
    },
    {
      "cell_type": "code",
      "source": [
        "filename = 'sample_data/uncorrupted_files.csv'\n",
        "\n",
        "sec = set()\n",
        "\n",
        "with open(filename, 'r') as file:\n",
        "    reader = csv.DictReader(file)\n",
        "    for row in reader:\n",
        "        sections = []\n",
        "        for key, value in row.items():\n",
        "            if value and key not in ['Filename', 'Machine type']:\n",
        "                sec.add(key)\n",
        "                sections.append(key)\n",
        "        # print(f\"Sections for {row['Filename']}: {', '.join(sections)}\")\n",
        "        \n",
        "print(sec)\n",
        "\n"
      ],
      "metadata": {
        "id": "vakn4YhkQmOc",
        "colab": {
          "base_uri": "https://localhost:8080/"
        },
        "outputId": "14287206-843c-41d8-aa16-3ae75ab45e4e"
      },
      "execution_count": null,
      "outputs": [
        {
          "output_type": "stream",
          "name": "stdout",
          "text": [
            "{'.gentee', '.didata', '.rdata', 'Number of sections', 'UPX1', '.rsrc', '/57', '.bss', 'UPX0', '.tls', '.data', '.itext', '.pdata', '/45', '.reloc', '.idata', '.edata', '.wixburn', '.ndata', '/19', '_RDATA', '.text', '.xdata', '.CRT', '/4', '/31'}\n"
          ]
        }
      ]
    },
    {
      "cell_type": "code",
      "source": [
        "import csv\n",
        "import pefile\n",
        "\n",
        "filename = 'sample_data/uncorrupted_files.csv'\n",
        "\n",
        "# Store all the unique sections from the uncorrupted files\n",
        "unique_sections = set()\n",
        "with open(filename, 'r') as file:\n",
        "    reader = csv.DictReader(file)\n",
        "    for row in reader:\n",
        "        for key, value in row.items():\n",
        "            if value and key not in ['Filename', 'Machine type']:\n",
        "                unique_sections.add(key)\n",
        "\n",
        "# Extract sections from the given .exe file and check if any different section is present\n",
        "exe_file = 'sample_data/ScreenRec_webinstall_all.exe'\n",
        "pe = pefile.PE(exe_file)\n",
        "exe_sections = set([section.Name.decode().rstrip('\\x00') for section in pe.sections])\n",
        "different_sections = exe_sections - unique_sections\n",
        "\n",
        "if different_sections:\n",
        "    print(f\"The file {exe_file} is corrupted. Different sections found: {', '.join(different_sections)}\")\n",
        "else:\n",
        "    print(f\"The file {exe_file} is not corrupted.\")\n"
      ],
      "metadata": {
        "colab": {
          "base_uri": "https://localhost:8080/"
        },
        "id": "kEFTbYrTRsFj",
        "outputId": "5330e00e-3e1e-4739-cab0-2cfd5990c3c1"
      },
      "execution_count": null,
      "outputs": [
        {
          "output_type": "stream",
          "name": "stdout",
          "text": [
            "The file sample_data/ScreenRec_webinstall_all.exe is not corrupted.\n"
          ]
        }
      ]
    },
    {
      "cell_type": "code",
      "source": [
        "import pefile\n",
        "\n",
        "def check_file(filename):\n",
        "    # Load the PE file\n",
        "    pe = pefile.PE(filename)\n",
        "\n",
        "    # Check the conditions\n",
        "    is_corrupted = 0\n",
        "    total_check = 8\n",
        "\n",
        "    # num_sections<=4\n",
        "    if pe.FILE_HEADER.NumberOfSections <= 4:\n",
        "        is_corrupted = is_corrupted + 1\n",
        "        print(\"Number of sections is less than or equal to 4. File is corrupted.\")\n",
        "\n",
        "    # .sdata\n",
        "    if \".sdata\" in [section.Name.decode().strip('\\x00') for section in pe.sections]:\n",
        "        is_corrupted = is_corrupted + 1\n",
        "        print(\"'.sdata' section found. File is corrupted.\")\n",
        "\n",
        "    # .data==0 or NULL\n",
        "    if not pe.sections[0].Misc_VirtualSize and pe.sections[0].SizeOfRawData == 0:\n",
        "        is_corrupted = is_corrupted + 1\n",
        "        print(\"'.data' section is empty. File is corrupted.\")\n",
        "\n",
        "    # .rdata==0 or NULL\n",
        "    if not pe.sections[1].Misc_VirtualSize and pe.sections[1].SizeOfRawData == 0:\n",
        "        is_corrupted = is_corrupted + 1\n",
        "        print(\"'.rdata' section is empty. File is corrupted.\")\n",
        "\n",
        "    # .rsrc==0 or NULL\n",
        "    if not pe.sections[2].Misc_VirtualSize and pe.sections[2].SizeOfRawData == 0:\n",
        "        is_corrupted = is_corrupted + 1\n",
        "        print(\"'.rsrc' section is empty. File is corrupted.\")\n",
        "\n",
        "    # .reloc < .data\n",
        "    # if pe.sections[5].PointerToRawData < pe.sections[0].PointerToRawData:\n",
        "    #     is_corrupted = is_corrupted + 1\n",
        "    #     print(\"'.reloc' section is located before '.data' section. File is corrupted.\")\n",
        "\n",
        "    # .orpc\n",
        "    if \".orpc\" in [section.Name.decode().strip('\\x00') for section in pe.sections]:\n",
        "        is_corrupted = is_corrupted + 1\n",
        "        print(\"'.orpc' section found. File is corrupted.\")\n",
        "\n",
        "    # Check for sections\n",
        "    exe_sections = set([section.Name.decode().rstrip('\\x00') for section in pe.sections])\n",
        "    different_sections = exe_sections - unique_sections\n",
        "    if different_sections:\n",
        "        is_corrupted = is_corrupted + 1\n",
        "\n",
        "    print(\"Probability of file being corrupted is\", is_corrupted / total_check)\n"
      ],
      "metadata": {
        "id": "i3BPCELu8ATG"
      },
      "execution_count": null,
      "outputs": []
    },
    {
      "cell_type": "code",
      "source": [
        "check1 = \"sample_data/39UvZmv.exe\"\n",
        "check2 = \"sample_data/FzPfH6.exe\"\n",
        "check3 = \"sample_data/ZtaXE.exe\"\n",
        "check4 = \"sample_data/ScreenRec_webinstall_all.exe\"\n",
        "\n",
        "check_file(check1)\n",
        "check_file(check2)\n",
        "check_file(check3)\n",
        "check_file(check4)"
      ],
      "metadata": {
        "colab": {
          "base_uri": "https://localhost:8080/"
        },
        "id": "3PUEvUD38AQu",
        "outputId": "c60a7304-f69c-4741-e868-b7b98375584c"
      },
      "execution_count": null,
      "outputs": [
        {
          "output_type": "stream",
          "name": "stdout",
          "text": [
            "Number of sections is less than or equal to 4. File is corrupted.\n",
            "'.orpc' section found. File is corrupted.\n",
            "Probability of file being corrupted is 0.375\n",
            "Probability of file being corrupted is 0.125\n",
            "Number of sections is less than or equal to 4. File is corrupted.\n",
            "Probability of file being corrupted is 0.125\n",
            "Probability of file being corrupted is 0.0\n"
          ]
        }
      ]
    },
    {
      "cell_type": "markdown",
      "source": [
        "##**VISUALIZATION** "
      ],
      "metadata": {
        "id": "mgfn4wiwADjM"
      }
    },
    {
      "cell_type": "code",
      "source": [
        "import pandas as pd\n",
        "\n",
        "# Load the CSV files\n",
        "corrupted_df = pd.read_csv('sample_data/corrupted_files.csv')\n",
        "not_corrupted_df = pd.read_csv('sample_data/uncorrupted_files.csv')\n",
        "\n",
        "# Merge the two DataFrames\n",
        "merged_df = pd.concat([corrupted_df, not_corrupted_df])\n",
        "\n",
        "# Group by Machine type and count the number of files in each group\n",
        "machine_type_counts = merged_df.groupby('Machine type').size()\n",
        "\n",
        "# Plot Number of sections vs Machine type for both the corrupted and not corrupted files\n",
        "corrupted_df.plot(kind='scatter', x='Machine type', y='Number of sections', color='red', label='Corrupted')\n",
        "not_corrupted_df.plot(kind='scatter', x='Machine type', y='Number of sections', color='blue', label='Not Corrupted')\n",
        "\n",
        "# Calculate the average section size for both the corrupted and not corrupted files\n",
        "corrupted_avg_section_size = corrupted_df.iloc[:, 3:].mean(axis=1).mean()\n",
        "not_corrupted_avg_section_size = not_corrupted_df.iloc[:, 3:].mean(axis=1).mean()\n",
        "\n",
        "# Print the average section sizes\n",
        "print('Corrupted avg section size:', corrupted_avg_section_size)\n",
        "print('Not corrupted avg section size:', not_corrupted_avg_section_size)\n"
      ],
      "metadata": {
        "colab": {
          "base_uri": "https://localhost:8080/",
          "height": 576
        },
        "id": "cqKi2XHh6usp",
        "outputId": "9b2345f8-ee6e-4ec8-f638-9e4acb8c2804"
      },
      "execution_count": null,
      "outputs": [
        {
          "output_type": "stream",
          "name": "stdout",
          "text": [
            "Corrupted avg section size: 94093.450877193\n",
            "Not corrupted avg section size: 3104922.331428571\n"
          ]
        },
        {
          "output_type": "display_data",
          "data": {
            "text/plain": [
              "<Figure size 432x288 with 1 Axes>"
            ],
            "image/png": "[encoded data removed]"
          },
          "metadata": {
            "needs_background": "light"
          }
        },
        {
          "output_type": "display_data",
          "data": {
            "text/plain": [
              "<Figure size 432x288 with 1 Axes>"
            ],
            "image/png": "[encoded data removed]"
          },
          "metadata": {
            "needs_background": "light"
          }
        }
      ]
    },
    {
      "cell_type": "code",
      "source": [
        "import pandas as pd\n",
        "import matplotlib.pyplot as plt\n",
        "# Read the CSV files\n",
        "corrupted_df = pd.read_csv('sample_data/corrupted_files.csv')\n",
        "not_corrupted_df = pd.read_csv('sample_data/uncorrupted_files.csv')\n",
        "\n",
        "# Merge the DataFrames on the Filename column\n",
        "merged_df = pd.merge(corrupted_df, not_corrupted_df, on='Filename', how='outer', suffixes=('_corrupted', '_not_corrupted'))\n",
        "\n",
        "# Count the number of corrupted and not corrupted files\n",
        "num_corrupted = merged_df['Machine type_corrupted'].count()\n",
        "num_not_corrupted = merged_df['Machine type_not_corrupted'].count()\n",
        "\n",
        "# Create a bar chart\n",
        "plt.bar(['Corrupted', 'Uncorrupted'], [num_corrupted, num_not_corrupted])\n",
        "\n",
        "# Add a title and axis labels\n",
        "plt.title('Number of Corrupted and Uncorrupted Files')\n",
        "plt.xlabel('File Status')\n",
        "plt.ylabel('Number of Files')\n",
        "\n",
        "# Display the chart\n",
        "plt.show()\n"
      ],
      "metadata": {
        "colab": {
          "base_uri": "https://localhost:8080/",
          "height": 295
        },
        "id": "6ZsRiMu7Dxy2",
        "outputId": "6974d593-7f7a-4361-d303-82463d01d34c"
      },
      "execution_count": null,
      "outputs": [
        {
          "output_type": "display_data",
          "data": {
            "text/plain": [
              "<Figure size 432x288 with 1 Axes>"
            ],
            "image/png": "[encoded data removed]"
          },
          "metadata": {
            "needs_background": "light"
          }
        }
      ]
    },
    {
      "cell_type": "code",
      "source": [
        "import pandas as pd\n",
        "import matplotlib.pyplot as plt\n",
        "#Corrupted files validity\n",
        "# read in the file as a pandas dataframe\n",
        "data = pd.read_csv('sample_data/corrupted_files.csv')\n",
        "\n",
        "# check for non-null values in a specific column\n",
        "non_null_values = data['.rdata'].notnull().sum()\n",
        "\n",
        "# determine if the file is corrupted\n",
        "is_corrupted = non_null_values == 0\n",
        "\n",
        "# visualize the number of corrupted files\n",
        "fig, ax = plt.subplots()\n",
        "ax.bar(['Corrupted', 'Valid'], [is_corrupted, not is_corrupted])\n",
        "ax.set_title('File Corruptness')\n",
        "ax.set_ylabel('Number of Files')\n",
        "plt.show()\n",
        "\n",
        "#Uncorrupted files validity\n",
        "import pandas as pd\n",
        "import matplotlib.pyplot as plt\n",
        "\n",
        "# read in the file as a pandas dataframe\n",
        "data = pd.read_csv('sample_data/uncorrupted_files.csv')\n",
        "\n",
        "# check for non-null values in a specific column\n",
        "non_null_values = data['.rdata'].notnull().sum()\n",
        "\n",
        "# determine if the file is corrupted\n",
        "is_corrupted = non_null_values == 0\n",
        "\n",
        "# visualize the number of corrupted and uncorrupted files\n",
        "fig, ax = plt.subplots()\n",
        "ax.bar(['Corrupted', 'Valid'], [int(is_corrupted), int(not is_corrupted)])\n",
        "ax.set_title('File Corruptness')\n",
        "ax.set_ylabel('Number of Files')\n",
        "\n",
        "# count the number of uncorrupted files\n",
        "if not is_corrupted:\n",
        "    uncorrupted_files = data.shape[0]\n",
        "    uncorrupted_files -= 1  # exclude the header row\n",
        "    uncorrupted_files -= non_null_values  # exclude the corrupted rows\n",
        "    ax.bar(['Uncorrupted'], [uncorrupted_files], color='green')\n",
        "\n",
        "plt.show()\n",
        "\n"
      ],
      "metadata": {
        "colab": {
          "base_uri": "https://localhost:8080/",
          "height": 545
        },
        "outputId": "4852e616-4df3-4de9-af48-7a4b32db4079",
        "id": "fMHBiU7dEeEx"
      },
      "execution_count": null,
      "outputs": [
        {
          "output_type": "display_data",
          "data": {
            "text/plain": [
              "<Figure size 432x288 with 1 Axes>"
            ],
            "image/png": "[encoded data removed]"
          },
          "metadata": {
            "needs_background": "light"
          }
        },
        {
          "output_type": "display_data",
          "data": {
            "text/plain": [
              "<Figure size 432x288 with 1 Axes>"
            ],
            "image/png": "[encoded data removed]"
          },
          "metadata": {
            "needs_background": "light"
          }
        }
      ]
    },
    {
      "cell_type": "code",
      "source": [
        "import pandas as pd\n",
        "import seaborn as sns\n",
        "def checkfile(filename):\n",
        "  sns.displot(df, x=filename, kde=True)\n",
        "# load the corrupted CSV file\n",
        "df = pd.read_csv('sample_data/corrupted_files.csv')\n",
        "\n",
        "# plot the distribution of the malware data using Seaborn\n",
        "checkfile(\".rdata\")\n",
        "checkfile(\".orpc\")\n",
        "checkfile(\".data\")\n",
        "checkfile(\".sdata\")\n",
        "checkfile(\".rsrc\")\n",
        "checkfile(\".reloc\")\n",
        "\n"
      ],
      "metadata": {
        "colab": {
          "base_uri": "https://localhost:8080/",
          "height": 1000
        },
        "id": "Rqfvc3jLUVkZ",
        "outputId": "30c9613a-6d07-4fed-a742-ff0be238c368"
      },
      "execution_count": null,
      "outputs": [
        {
          "output_type": "display_data",
          "data": {
            "text/plain": [
              "<Figure size 360x360 with 1 Axes>"
            ],
            "image/png": "[encoded data removed]"
          },
          "metadata": {
            "needs_background": "light"
          }
        },
        {
          "output_type": "display_data",
          "data": {
            "text/plain": [
              "<Figure size 360x360 with 1 Axes>"
            ],
            "image/png": "[encoded data removed]"
          },
          "metadata": {
            "needs_background": "light"
          }
        },
        {
          "output_type": "display_data",
          "data": {
            "text/plain": [
              "<Figure size 360x360 with 1 Axes>"
            ],
            "image/png": "[encoded data removed]"
          },
          "metadata": {
            "needs_background": "light"
          }
        },
        {
          "output_type": "display_data",
          "data": {
            "text/plain": [
              "<Figure size 360x360 with 1 Axes>"
            ],
            "image/png": "[encoded data removed]"
          },
          "metadata": {
            "needs_background": "light"
          }
        },
        {
          "output_type": "display_data",
          "data": {
            "text/plain": [
              "<Figure size 360x360 with 1 Axes>"
            ],
            "image/png": "[encoded data removed]"
          },
          "metadata": {
            "needs_background": "light"
          }
        },
        {
          "output_type": "display_data",
          "data": {
            "text/plain": [
              "<Figure size 360x360 with 1 Axes>"
            ],
            "image/png": "[encoded data removed]"
          },
          "metadata": {
            "needs_background": "light"
          }
        }
      ]
    },
    {
      "cell_type": "code",
      "source": [
        "import pandas as pd\n",
        "import matplotlib.pyplot as plt\n",
        "\n",
        "# load the malware corrupted CSV file\n",
        "df = pd.read_csv('sample_data/corrupted_files.csv')\n",
        "\n",
        "# create a boxplot of all columns\n",
        "df.plot.box(figsize=(12,8))\n",
        "\n",
        "# add a title to the plot\n",
        "plt.title('Corrupted Data')\n",
        "\n",
        "# display the plot\n",
        "plt.show()\n",
        "\n",
        "# load the malware corrupted CSV file\n",
        "df = pd.read_csv('sample_data/uncorrupted_files.csv')\n",
        "\n",
        "# create a boxplot of all columns\n",
        "df.plot.box(figsize=(12,8))\n",
        "\n",
        "# add a title to the plot\n",
        "plt.title('Uncorrupted Data')\n",
        "\n",
        "# display the plot\n",
        "plt.show()\n"
      ],
      "metadata": {
        "colab": {
          "base_uri": "https://localhost:8080/",
          "height": 1000
        },
        "id": "tatNQRqFW4e4",
        "outputId": "8d200e50-50bb-4fcb-b266-d123dd4e8424"
      },
      "execution_count": null,
      "outputs": [
        {
          "output_type": "stream",
          "name": "stderr",
          "text": [
            "/usr/local/lib/python3.8/dist-packages/matplotlib/cbook/__init__.py:1376: VisibleDeprecationWarning: Creating an ndarray from ragged nested sequences (which is a list-or-tuple of lists-or-tuples-or ndarrays with different lengths or shapes) is deprecated. If you meant to do this, you must specify 'dtype=object' when creating the ndarray.\n",
            "  X = np.atleast_1d(X.T if isinstance(X, np.ndarray) else np.asarray(X))\n"
          ]
        },
        {
          "output_type": "display_data",
          "data": {
            "text/plain": [
              "<Figure size 864x576 with 1 Axes>"
            ],
            "image/png": "[encoded data removed]"
          },
          "metadata": {
            "needs_background": "light"
          }
        },
        {
          "output_type": "stream",
          "name": "stderr",
          "text": [
            "/usr/local/lib/python3.8/dist-packages/matplotlib/cbook/__init__.py:1376: VisibleDeprecationWarning: Creating an ndarray from ragged nested sequences (which is a list-or-tuple of lists-or-tuples-or ndarrays with different lengths or shapes) is deprecated. If you meant to do this, you must specify 'dtype=object' when creating the ndarray.\n",
            "  X = np.atleast_1d(X.T if isinstance(X, np.ndarray) else np.asarray(X))\n"
          ]
        },
        {
          "output_type": "display_data",
          "data": {
            "text/plain": [
              "<Figure size 864x576 with 1 Axes>"
            ],
            "image/png": "[encoded data removed]"
          },
          "metadata": {
            "needs_background": "light"
          }
        }
      ]
    },
    {
      "cell_type": "code",
      "source": [],
      "metadata": {
        "id": "P29cw7e9TVnz"
      },
      "execution_count": null,
      "outputs": []
    },
    {
      "cell_type": "code",
      "source": [],
      "metadata": {
        "id": "_ljVy-ajTVme"
      },
      "execution_count": null,
      "outputs": []
    },
    {
      "cell_type": "code",
      "source": [],
      "metadata": {
        "id": "b0JoUaQCTVgn"
      },
      "execution_count": null,
      "outputs": []
    }
  ]
}